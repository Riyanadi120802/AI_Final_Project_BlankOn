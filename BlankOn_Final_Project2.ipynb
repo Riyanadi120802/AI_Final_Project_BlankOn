{
  "nbformat": 4,
  "nbformat_minor": 0,
  "metadata": {
    "colab": {
      "provenance": []
    },
    "kernelspec": {
      "name": "python3",
      "display_name": "Python 3"
    },
    "language_info": {
      "name": "python"
    }
  },
  "cells": [
    {
      "cell_type": "markdown",
      "source": [
        "# Basic Deep Learning - MNIST Fashion\n",
        "\n",
        "Kita akan melatih jaringan NN untuk mengenali item pakaian dari dataset MNIST Fashion\n",
        "\n",
        "https://github.com/zalandoresearch/fashion-mnist\n",
        "\n",
        "Training set of 60,000 examples and a test set of 10,000 examples. Setiap item adalah gambar grayscale 28*28 pixel.\n",
        "\n",
        "![alt text](https://github.com/zalandoresearch/fashion-mnist/raw/master/doc/img/fashion-mnist-sprite.png)"
      ],
      "metadata": {
        "id": "VjbEm8XV4fi2"
      }
    },
    {
      "cell_type": "code",
      "execution_count": null,
      "metadata": {
        "id": "UJ5zIF0mkf-S"
      },
      "outputs": [],
      "source": [
        "import keras\n",
        "from keras.datasets import mnist\n",
        "from keras.models import Sequential\n",
        "from keras.layers import Dense, Dropout, Flatten, Lambda\n",
        "from keras.layers import Conv2D, MaxPooling2D, BatchNormalization\n",
        "from keras.optimizers import Adam\n",
        "import matplotlib.pyplot as plt\n",
        "import matplotlib.image as mpimg\n",
        "import tensorflow as tf\n",
        "from tensorflow.keras.preprocessing.image import ImageDataGenerator\n",
        "from tensorflow.keras.utils import to_categorical\n",
        "from tensorflow import keras\n",
        "import numpy as np\n",
        "import pandas as pd\n",
        "np.random.seed(12345)\n",
        "%matplotlib inline"
      ]
    },
    {
      "cell_type": "markdown",
      "source": [
        "# A. Load Data\n",
        "\n",
        "Data sudah tersedia di `tf.keras.datasets` API."
      ],
      "metadata": {
        "id": "vKSNT_M140aS"
      }
    },
    {
      "cell_type": "code",
      "source": [
        "mnist = tf.keras.datasets.fashion_mnist"
      ],
      "metadata": {
        "id": "ZcaBEYiH4cGm"
      },
      "execution_count": null,
      "outputs": []
    },
    {
      "cell_type": "code",
      "source": [
        "train_images_path = keras.utils.get_file('train-images-idx3-ubyte.gz', 'https://raw.githubusercontent.com/zalandoresearch/fashion-mnist/master/data/fashion/train-images-idx3-ubyte.gz')\n",
        "train_labels_path = keras.utils.get_file('train-labels-idx1-ubyte.gz', 'https://raw.githubusercontent.com/zalandoresearch/fashion-mnist/master/data/fashion/train-labels-idx1-ubyte.gz')\n",
        "test_images_path = keras.utils.get_file('t10k-images-idx3-ubyte.gz', 'https://raw.githubusercontent.com/zalandoresearch/fashion-mnist/master/data/fashion/t10k-images-idx3-ubyte.gz')\n",
        "test_labels_path = keras.utils.get_file('t10k-labels-idx1-ubyte.gz', 'https://raw.githubusercontent.com/zalandoresearch/fashion-mnist/master/data/fashion/t10k-labels-idx1-ubyte.gz')"
      ],
      "metadata": {
        "id": "GeTPRA98pv65"
      },
      "execution_count": null,
      "outputs": []
    },
    {
      "cell_type": "code",
      "source": [
        "# https://www.tensorflow.org/api_docs/python/tf/keras/datasets/fashion_mnist/load_data\n",
        "\n",
        "(training_images, training_labels), (test_images, test_labels) = mnist.load_data()"
      ],
      "metadata": {
        "id": "YKeGBYdy45mf"
      },
      "execution_count": null,
      "outputs": []
    },
    {
      "cell_type": "markdown",
      "source": [
        "## Check Sample Data\n",
        "\n",
        "Kita akan cek seperti data yang telah kita miliki"
      ],
      "metadata": {
        "id": "Mx79CHoF5ACw"
      }
    },
    {
      "cell_type": "code",
      "source": [
        "import matplotlib.pyplot as plt\n",
        "\n",
        "# cek sample data dengan index tertentu\n",
        "# [0] merupakan index pada data, anda bisa ganti index ini\n",
        "\n",
        "plt.imshow(training_images[8])\n",
        "\n",
        "print('Label', training_labels[8])\n",
        "print('Data Image', training_images[8])"
      ],
      "metadata": {
        "colab": {
          "base_uri": "https://localhost:8080/",
          "height": 1000
        },
        "id": "EmZbYVZI5GzY",
        "outputId": "5e8e1eac-68c3-4e4a-f601-d286c8bc6d00"
      },
      "execution_count": null,
      "outputs": [
        {
          "output_type": "stream",
          "name": "stdout",
          "text": [
            "Label 5\n",
            "Data Image [[  0   0   0   0   0   0   0   0   0   0   0   0   0   0   0   0   0   0\n",
            "    0   0   0   0   0   0   0   0   0   0]\n",
            " [  0   0   0   0   0   0   0   0   0   0   0   0   0   0   0   0   0   0\n",
            "    0   0   0   0   0   0   0   0   0   0]\n",
            " [  0   0   0   0   0   0   0   0   0   0   0   0   1   3   1   0   0   1\n",
            "    1   0   0   0   0  58   0  39   1   0]\n",
            " [  0   0   0   0   0   0   0   0   0   0   0   0   1   3   0   0   0   0\n",
            "    0   0   0  64 109 146 192 193   7   0]\n",
            " [  0   0   0   0   0   0   0   0   0   1   0   0   0   0   0   0  94  38\n",
            "   99 209 183 229 192 142  48   0   0   0]\n",
            " [  0   0   0   0   0   0   0   0   0   1   0   0   0   0  41  45 158 146\n",
            "  164 114  51   1  53 105  42  36   0   0]\n",
            " [  0   0   0   0   0   0   0   0   0   0   0   0  10  68  44  30  59 172\n",
            "  146   0  22   0  13 103 111 103   0   0]\n",
            " [  0   0   0   0   0   0   0   0   0   3   1   0  22  61  88 152 255  71\n",
            "    0   0   0   0  35  85 112 201  44   0]\n",
            " [  0   0   0   0   0   0   0   0   0   1   0   0  13  62 154  62   0   0\n",
            "    0   0   0   0  54  99  61 106  51  19]\n",
            " [  0   0   0   0   0   0   0   0   0   0   0   0   0   0   0   0   9   1\n",
            "    0   0   1   0  79  82  47  33  58  50]\n",
            " [  0   0   0   0   0   0   0   0   0   0   0   0   0   3   1   3   9   3\n",
            "    0   0   1   0 100  88  48  35  70  54]\n",
            " [  0   0   0   0   0   0   0   0   0   0   0   0   0   0   0   0   0   3\n",
            "    0   1   0   0 111 195 119  29  58  45]\n",
            " [  0   0   0   0   0   0   0   1   0   0   0   0   0   0   0   0   0   0\n",
            "    3   3   0   0  91 146 171  16  93  35]\n",
            " [  0   0   0   0   0   0   0   0   0   0   0   0   0   0   0   0   0   0\n",
            "    0   0   0  48  45   3  79  87  99   6]\n",
            " [  0   0   0   0   0   0   0   0   0   0   0   0   0   0   0   0   0   3\n",
            "    0   0 119 137  33  96  77  13  45   0]\n",
            " [  0   0   0   0   0   0   0   0   0   0   0   0   0   0   0   0   0   0\n",
            "   32 160 164 142 116  79  82  39  39   0]\n",
            " [  0   0   0   0   3   0   0   0   0   0   0   0   0   3   4  10   0  41\n",
            "  180 142 171   1   0   0  48  73  16   0]\n",
            " [  0   0   0   0   0   0   1   1   0   0   0   0   0   0   3   0  27 155\n",
            "  114 169   0   0   0   0  47  76   6   0]\n",
            " [  0   0   0   0   0   0   0   0   0   0   0   0   1   0   0   0 155 129\n",
            "  160   0   0   0   0   0  45  96   0   0]\n",
            " [  0   0   0   0   1   0  16  39  64   0   0   0   0   0   0 129 151 175\n",
            "    0   0   0   4   4   0  48 116   0   0]\n",
            " [  0   0   0   0   0   0  58  87  73  10   0   0   0   0  27 187 195   0\n",
            "    0   0   0   3   1   0  47 146   0   0]\n",
            " [  1   0   0   0   1   0   0   0   0   0   0   0   0   0 181 225  45   0\n",
            "    0   0   0   0   1   0  45 186   0   0]\n",
            " [  0   0   0   0   0   0   1 183 210  90   0   0   0 126 253 142   0   0\n",
            "    0   0   0   0   1   0  48 203   0   0]\n",
            " [ 64  58  45  27  16   9   1 175 245 204  22   0  70 236 190   6   0   0\n",
            "    0   0   0   0   0   0  50 196   0   0]\n",
            " [ 96 128 149 163 158 140 138 146 154 108  90 148 193 177  36   0   7   0\n",
            "    0   0   0   0   0   0  41 125   0   0]\n",
            " [  0   0   0   0  19  47  65  93  94 125 166 180 119  29   0   0   0   0\n",
            "    0   0   0   0   0   0  32 238   0   0]\n",
            " [  0   0   0   0   0   0   0   0   0   0   0   0   0   0   0   0   0   0\n",
            "    0   0   0   0   0   0   0 131   0   0]\n",
            " [  0   0   0   0   0   0   0   0   0   0   0   0   0   0   0   0   0   0\n",
            "    0   0   0   0   0   0   0   0   0   0]]\n"
          ]
        },
        {
          "output_type": "display_data",
          "data": {
            "text/plain": [
              "<Figure size 432x288 with 1 Axes>"
            ],
            "image/png": "[encoded data removed]"
          },
          "metadata": {
            "needs_background": "light"
          }
        }
      ]
    },
    {
      "cell_type": "markdown",
      "source": [
        "Data asli terdiri antara angka 0 dan 255. Jika kita latih dengan jaringan NN, itu akan lebih mudah jika kita buat semua nilainya diantara 0 dan 1. \n",
        "\n",
        "Proses ini yang disebut sebagai 'normalisasi'."
      ],
      "metadata": {
        "id": "fPmujtBV5XAq"
      }
    },
    {
      "cell_type": "code",
      "source": [
        "training_images = training_images / 255.0\n",
        "test_images = test_images / 255.0\n",
        "\n",
        "print('Data Image', training_images[8])\n",
        "plt.imshow(training_images[8])"
      ],
      "metadata": {
        "colab": {
          "base_uri": "https://localhost:8080/",
          "height": 1000
        },
        "id": "biMiBNMr5a2R",
        "outputId": "61c3a30e-01db-42e1-f2ba-01306461c3d2"
      },
      "execution_count": null,
      "outputs": [
        {
          "output_type": "stream",
          "name": "stdout",
          "text": [
            "Data Image [[0.         0.         0.         0.         0.         0.\n",
            "  0.         0.         0.         0.         0.         0.\n",
            "  0.         0.         0.         0.         0.         0.\n",
            "  0.         0.         0.         0.         0.         0.\n",
            "  0.         0.         0.         0.        ]\n",
            " [0.         0.         0.         0.         0.         0.\n",
            "  0.         0.         0.         0.         0.         0.\n",
            "  0.         0.         0.         0.         0.         0.\n",
            "  0.         0.         0.         0.         0.         0.\n",
            "  0.         0.         0.         0.        ]\n",
            " [0.         0.         0.         0.         0.         0.\n",
            "  0.         0.         0.         0.         0.         0.\n",
            "  0.00392157 0.01176471 0.00392157 0.         0.         0.00392157\n",
            "  0.00392157 0.         0.         0.         0.         0.22745098\n",
            "  0.         0.15294118 0.00392157 0.        ]\n",
            " [0.         0.         0.         0.         0.         0.\n",
            "  0.         0.         0.         0.         0.         0.\n",
            "  0.00392157 0.01176471 0.         0.         0.         0.\n",
            "  0.         0.         0.         0.25098039 0.42745098 0.57254902\n",
            "  0.75294118 0.75686275 0.02745098 0.        ]\n",
            " [0.         0.         0.         0.         0.         0.\n",
            "  0.         0.         0.         0.00392157 0.         0.\n",
            "  0.         0.         0.         0.         0.36862745 0.14901961\n",
            "  0.38823529 0.81960784 0.71764706 0.89803922 0.75294118 0.55686275\n",
            "  0.18823529 0.         0.         0.        ]\n",
            " [0.         0.         0.         0.         0.         0.\n",
            "  0.         0.         0.         0.00392157 0.         0.\n",
            "  0.         0.         0.16078431 0.17647059 0.61960784 0.57254902\n",
            "  0.64313725 0.44705882 0.2        0.00392157 0.20784314 0.41176471\n",
            "  0.16470588 0.14117647 0.         0.        ]\n",
            " [0.         0.         0.         0.         0.         0.\n",
            "  0.         0.         0.         0.         0.         0.\n",
            "  0.03921569 0.26666667 0.17254902 0.11764706 0.23137255 0.6745098\n",
            "  0.57254902 0.         0.08627451 0.         0.05098039 0.40392157\n",
            "  0.43529412 0.40392157 0.         0.        ]\n",
            " [0.         0.         0.         0.         0.         0.\n",
            "  0.         0.         0.         0.01176471 0.00392157 0.\n",
            "  0.08627451 0.23921569 0.34509804 0.59607843 1.         0.27843137\n",
            "  0.         0.         0.         0.         0.1372549  0.33333333\n",
            "  0.43921569 0.78823529 0.17254902 0.        ]\n",
            " [0.         0.         0.         0.         0.         0.\n",
            "  0.         0.         0.         0.00392157 0.         0.\n",
            "  0.05098039 0.24313725 0.60392157 0.24313725 0.         0.\n",
            "  0.         0.         0.         0.         0.21176471 0.38823529\n",
            "  0.23921569 0.41568627 0.2        0.0745098 ]\n",
            " [0.         0.         0.         0.         0.         0.\n",
            "  0.         0.         0.         0.         0.         0.\n",
            "  0.         0.         0.         0.         0.03529412 0.00392157\n",
            "  0.         0.         0.00392157 0.         0.30980392 0.32156863\n",
            "  0.18431373 0.12941176 0.22745098 0.19607843]\n",
            " [0.         0.         0.         0.         0.         0.\n",
            "  0.         0.         0.         0.         0.         0.\n",
            "  0.         0.01176471 0.00392157 0.01176471 0.03529412 0.01176471\n",
            "  0.         0.         0.00392157 0.         0.39215686 0.34509804\n",
            "  0.18823529 0.1372549  0.2745098  0.21176471]\n",
            " [0.         0.         0.         0.         0.         0.\n",
            "  0.         0.         0.         0.         0.         0.\n",
            "  0.         0.         0.         0.         0.         0.01176471\n",
            "  0.         0.00392157 0.         0.         0.43529412 0.76470588\n",
            "  0.46666667 0.11372549 0.22745098 0.17647059]\n",
            " [0.         0.         0.         0.         0.         0.\n",
            "  0.         0.00392157 0.         0.         0.         0.\n",
            "  0.         0.         0.         0.         0.         0.\n",
            "  0.01176471 0.01176471 0.         0.         0.35686275 0.57254902\n",
            "  0.67058824 0.0627451  0.36470588 0.1372549 ]\n",
            " [0.         0.         0.         0.         0.         0.\n",
            "  0.         0.         0.         0.         0.         0.\n",
            "  0.         0.         0.         0.         0.         0.\n",
            "  0.         0.         0.         0.18823529 0.17647059 0.01176471\n",
            "  0.30980392 0.34117647 0.38823529 0.02352941]\n",
            " [0.         0.         0.         0.         0.         0.\n",
            "  0.         0.         0.         0.         0.         0.\n",
            "  0.         0.         0.         0.         0.         0.01176471\n",
            "  0.         0.         0.46666667 0.5372549  0.12941176 0.37647059\n",
            "  0.30196078 0.05098039 0.17647059 0.        ]\n",
            " [0.         0.         0.         0.         0.         0.\n",
            "  0.         0.         0.         0.         0.         0.\n",
            "  0.         0.         0.         0.         0.         0.\n",
            "  0.1254902  0.62745098 0.64313725 0.55686275 0.45490196 0.30980392\n",
            "  0.32156863 0.15294118 0.15294118 0.        ]\n",
            " [0.         0.         0.         0.         0.01176471 0.\n",
            "  0.         0.         0.         0.         0.         0.\n",
            "  0.         0.01176471 0.01568627 0.03921569 0.         0.16078431\n",
            "  0.70588235 0.55686275 0.67058824 0.00392157 0.         0.\n",
            "  0.18823529 0.28627451 0.0627451  0.        ]\n",
            " [0.         0.         0.         0.         0.         0.\n",
            "  0.00392157 0.00392157 0.         0.         0.         0.\n",
            "  0.         0.         0.01176471 0.         0.10588235 0.60784314\n",
            "  0.44705882 0.6627451  0.         0.         0.         0.\n",
            "  0.18431373 0.29803922 0.02352941 0.        ]\n",
            " [0.         0.         0.         0.         0.         0.\n",
            "  0.         0.         0.         0.         0.         0.\n",
            "  0.00392157 0.         0.         0.         0.60784314 0.50588235\n",
            "  0.62745098 0.         0.         0.         0.         0.\n",
            "  0.17647059 0.37647059 0.         0.        ]\n",
            " [0.         0.         0.         0.         0.00392157 0.\n",
            "  0.0627451  0.15294118 0.25098039 0.         0.         0.\n",
            "  0.         0.         0.         0.50588235 0.59215686 0.68627451\n",
            "  0.         0.         0.         0.01568627 0.01568627 0.\n",
            "  0.18823529 0.45490196 0.         0.        ]\n",
            " [0.         0.         0.         0.         0.         0.\n",
            "  0.22745098 0.34117647 0.28627451 0.03921569 0.         0.\n",
            "  0.         0.         0.10588235 0.73333333 0.76470588 0.\n",
            "  0.         0.         0.         0.01176471 0.00392157 0.\n",
            "  0.18431373 0.57254902 0.         0.        ]\n",
            " [0.00392157 0.         0.         0.         0.00392157 0.\n",
            "  0.         0.         0.         0.         0.         0.\n",
            "  0.         0.         0.70980392 0.88235294 0.17647059 0.\n",
            "  0.         0.         0.         0.         0.00392157 0.\n",
            "  0.17647059 0.72941176 0.         0.        ]\n",
            " [0.         0.         0.         0.         0.         0.\n",
            "  0.00392157 0.71764706 0.82352941 0.35294118 0.         0.\n",
            "  0.         0.49411765 0.99215686 0.55686275 0.         0.\n",
            "  0.         0.         0.         0.         0.00392157 0.\n",
            "  0.18823529 0.79607843 0.         0.        ]\n",
            " [0.25098039 0.22745098 0.17647059 0.10588235 0.0627451  0.03529412\n",
            "  0.00392157 0.68627451 0.96078431 0.8        0.08627451 0.\n",
            "  0.2745098  0.9254902  0.74509804 0.02352941 0.         0.\n",
            "  0.         0.         0.         0.         0.         0.\n",
            "  0.19607843 0.76862745 0.         0.        ]\n",
            " [0.37647059 0.50196078 0.58431373 0.63921569 0.61960784 0.54901961\n",
            "  0.54117647 0.57254902 0.60392157 0.42352941 0.35294118 0.58039216\n",
            "  0.75686275 0.69411765 0.14117647 0.         0.02745098 0.\n",
            "  0.         0.         0.         0.         0.         0.\n",
            "  0.16078431 0.49019608 0.         0.        ]\n",
            " [0.         0.         0.         0.         0.0745098  0.18431373\n",
            "  0.25490196 0.36470588 0.36862745 0.49019608 0.65098039 0.70588235\n",
            "  0.46666667 0.11372549 0.         0.         0.         0.\n",
            "  0.         0.         0.         0.         0.         0.\n",
            "  0.1254902  0.93333333 0.         0.        ]\n",
            " [0.         0.         0.         0.         0.         0.\n",
            "  0.         0.         0.         0.         0.         0.\n",
            "  0.         0.         0.         0.         0.         0.\n",
            "  0.         0.         0.         0.         0.         0.\n",
            "  0.         0.51372549 0.         0.        ]\n",
            " [0.         0.         0.         0.         0.         0.\n",
            "  0.         0.         0.         0.         0.         0.\n",
            "  0.         0.         0.         0.         0.         0.\n",
            "  0.         0.         0.         0.         0.         0.\n",
            "  0.         0.         0.         0.        ]]\n"
          ]
        },
        {
          "output_type": "execute_result",
          "data": {
            "text/plain": [
              "<matplotlib.image.AxesImage at 0x7f442f311c50>"
            ]
          },
          "metadata": {},
          "execution_count": 41
        },
        {
          "output_type": "display_data",
          "data": {
            "text/plain": [
              "<Figure size 432x288 with 1 Axes>"
            ],
            "image/png": "[encoded data removed]"
          },
          "metadata": {
            "needs_background": "light"
          }
        }
      ]
    },
    {
      "cell_type": "code",
      "source": [],
      "metadata": {
        "id": "lbYNoqzk9zas"
      },
      "execution_count": null,
      "outputs": []
    },
    {
      "cell_type": "markdown",
      "source": [
        "# B. Build the Model"
      ],
      "metadata": {
        "id": "aUkAMVOF5kKm"
      }
    },
    {
      "cell_type": "code",
      "source": [
        "batch_size = 512"
      ],
      "metadata": {
        "id": "s_isPIa5qBkL"
      },
      "execution_count": null,
      "outputs": []
    },
    {
      "cell_type": "code",
      "source": [
        "import tensorflow as tf\n",
        "print(tf.__version__)\n",
        "\n",
        "class myCallback(tf.keras.callbacks.Callback):\n",
        "  def on_epoch_end(self, epoch, logs={}):\n",
        "    if(logs.get('accuracy')>0.9):\n",
        "      print('\\nSudah sampai akurasi 90%, stop training!')\n",
        "      self.model.stop_training = True\n",
        "\n",
        "callback = myCallback()\n",
        "\n",
        "mnist = tf.keras.datasets.fashion_mnist\n",
        "\n",
        "(training_images, training_labels), (test_images, test_labels) = mnist.load_data()\n",
        "\n",
        "training_images = training_images/255.0\n",
        "test_images = test_images/255.0\n",
        "\n",
        "model = tf.keras.models.Sequential([tf.keras.layers.Flatten(),\n",
        "                                   tf.keras.layers.Dense(128, activation=tf.nn.relu), \n",
        "                                   tf.keras.layers.Dense(10, activation=tf.nn.softmax)])\n",
        "\n",
        "model.compile(optimizer = tf.keras.optimizers.Adam(),\n",
        "              loss = 'sparse_categorical_crossentropy',\n",
        "              metrics = ['accuracy'])"
      ],
      "metadata": {
        "colab": {
          "base_uri": "https://localhost:8080/"
        },
        "id": "S8Qjv0525jns",
        "outputId": "59044da2-28ea-4f3f-ad58-b048cc2a2552"
      },
      "execution_count": null,
      "outputs": [
        {
          "output_type": "stream",
          "name": "stdout",
          "text": [
            "2.9.2\n"
          ]
        }
      ]
    },
    {
      "cell_type": "code",
      "source": [
        "%%time\n",
        "history = model.fit(training_images,\n",
        "                 training_labels,\n",
        "                 epochs = 45,\n",
        "                 steps_per_epoch = 100,\n",
        "                 batch_size = 128,\n",
        "                 verbose = 1,\n",
        "                 callbacks = [callback])\n",
        "#model.fit(training_images, training_labels, epochs=30, callbacks=[callback])"
      ],
      "metadata": {
        "colab": {
          "base_uri": "https://localhost:8080/"
        },
        "id": "tCI187Hv6BYC",
        "outputId": "ef3272d9-9736-4fc3-f9bc-f91e8909fcdc"
      },
      "execution_count": null,
      "outputs": [
        {
          "output_type": "stream",
          "name": "stdout",
          "text": [
            "Epoch 1/45\n",
            "100/100 [==============================] - 1s 5ms/step - loss: 0.8297 - accuracy: 0.7188\n",
            "Epoch 2/45\n",
            "100/100 [==============================] - 0s 4ms/step - loss: 0.5349 - accuracy: 0.8170\n",
            "Epoch 3/45\n",
            "100/100 [==============================] - 0s 4ms/step - loss: 0.4933 - accuracy: 0.8279\n",
            "Epoch 4/45\n",
            "100/100 [==============================] - 0s 4ms/step - loss: 0.4541 - accuracy: 0.8433\n",
            "Epoch 5/45\n",
            "100/100 [==============================] - 0s 4ms/step - loss: 0.4333 - accuracy: 0.8465\n",
            "Epoch 6/45\n",
            "100/100 [==============================] - 0s 4ms/step - loss: 0.4128 - accuracy: 0.8595\n",
            "Epoch 7/45\n",
            "100/100 [==============================] - 0s 4ms/step - loss: 0.4111 - accuracy: 0.8542\n",
            "Epoch 8/45\n",
            "100/100 [==============================] - 0s 4ms/step - loss: 0.3982 - accuracy: 0.8601\n",
            "Epoch 9/45\n",
            "100/100 [==============================] - 0s 4ms/step - loss: 0.4025 - accuracy: 0.8602\n",
            "Epoch 10/45\n",
            "100/100 [==============================] - 0s 4ms/step - loss: 0.3848 - accuracy: 0.8658\n",
            "Epoch 11/45\n",
            "100/100 [==============================] - 0s 4ms/step - loss: 0.3570 - accuracy: 0.8710\n",
            "Epoch 12/45\n",
            "100/100 [==============================] - 0s 4ms/step - loss: 0.3519 - accuracy: 0.8742\n",
            "Epoch 13/45\n",
            "100/100 [==============================] - 0s 5ms/step - loss: 0.3622 - accuracy: 0.8713\n",
            "Epoch 14/45\n",
            "100/100 [==============================] - 0s 4ms/step - loss: 0.3703 - accuracy: 0.8700\n",
            "Epoch 15/45\n",
            "100/100 [==============================] - 0s 4ms/step - loss: 0.3371 - accuracy: 0.8801\n",
            "Epoch 16/45\n",
            "100/100 [==============================] - 0s 4ms/step - loss: 0.3311 - accuracy: 0.8823\n",
            "Epoch 17/45\n",
            "100/100 [==============================] - 0s 4ms/step - loss: 0.3558 - accuracy: 0.8739\n",
            "Epoch 18/45\n",
            "100/100 [==============================] - 0s 4ms/step - loss: 0.3334 - accuracy: 0.8798\n",
            "Epoch 19/45\n",
            "100/100 [==============================] - 0s 4ms/step - loss: 0.3205 - accuracy: 0.8853\n",
            "Epoch 20/45\n",
            "100/100 [==============================] - 0s 4ms/step - loss: 0.3140 - accuracy: 0.8876\n",
            "Epoch 21/45\n",
            "100/100 [==============================] - 0s 4ms/step - loss: 0.3082 - accuracy: 0.8893\n",
            "Epoch 22/45\n",
            "100/100 [==============================] - 0s 4ms/step - loss: 0.3189 - accuracy: 0.8839\n",
            "Epoch 23/45\n",
            "100/100 [==============================] - 0s 4ms/step - loss: 0.3199 - accuracy: 0.8858\n",
            "Epoch 24/45\n",
            "100/100 [==============================] - 0s 4ms/step - loss: 0.3079 - accuracy: 0.8870\n",
            "Epoch 25/45\n",
            "100/100 [==============================] - 0s 4ms/step - loss: 0.2939 - accuracy: 0.8919\n",
            "Epoch 26/45\n",
            "100/100 [==============================] - 0s 4ms/step - loss: 0.3079 - accuracy: 0.8908\n",
            "Epoch 27/45\n",
            "100/100 [==============================] - 0s 4ms/step - loss: 0.2959 - accuracy: 0.8938\n",
            "Epoch 28/45\n",
            "100/100 [==============================] - 0s 4ms/step - loss: 0.3040 - accuracy: 0.8914\n",
            "Epoch 29/45\n",
            "100/100 [==============================] - 0s 4ms/step - loss: 0.2829 - accuracy: 0.8968\n",
            "Epoch 30/45\n",
            "100/100 [==============================] - 0s 4ms/step - loss: 0.2947 - accuracy: 0.8946\n",
            "Epoch 31/45\n",
            "100/100 [==============================] - 0s 4ms/step - loss: 0.2912 - accuracy: 0.8934\n",
            "Epoch 32/45\n",
            "100/100 [==============================] - 0s 4ms/step - loss: 0.2888 - accuracy: 0.8952\n",
            "Epoch 33/45\n",
            "100/100 [==============================] - 0s 4ms/step - loss: 0.2875 - accuracy: 0.8966\n",
            "Epoch 34/45\n",
            " 99/100 [============================>.] - ETA: 0s - loss: 0.2721 - accuracy: 0.9005\n",
            "Sudah sampai akurasi 90%, stop training!\n",
            "100/100 [==============================] - 0s 4ms/step - loss: 0.2726 - accuracy: 0.9004\n",
            "CPU times: user 19.3 s, sys: 1.24 s, total: 20.6 s\n",
            "Wall time: 15.4 s\n"
          ]
        }
      ]
    },
    {
      "cell_type": "code",
      "source": [
        "fig, ax = plt.subplots(2, 1, figsize = (8,6))\n",
        "\n",
        "ax[0].plot(history.history['accuracy'], label = 'train acc')\n",
        "ax[0].legend()\n",
        "ax[0].set_title('Accuracy')\n",
        "ax[0].set_ylim(0, 1)\n",
        "\n",
        "ax[1].plot(history.history['loss'], label = 'train_loss')\n",
        "ax[1].legend()\n",
        "ax[1].set_title('Loss')\n",
        "ax[1].set_ylim([0,max(history.history['loss'])])\n",
        "\n",
        "fig.tight_layout()\n",
        "plt.show"
      ],
      "metadata": {
        "colab": {
          "base_uri": "https://localhost:8080/",
          "height": 459
        },
        "id": "Xy7SBTrl6-mV",
        "outputId": "a7a22386-3328-4a7f-e9bd-706e33458b9d"
      },
      "execution_count": null,
      "outputs": [
        {
          "output_type": "execute_result",
          "data": {
            "text/plain": [
              "<function matplotlib.pyplot.show(*args, **kw)>"
            ]
          },
          "metadata": {},
          "execution_count": 45
        },
        {
          "output_type": "display_data",
          "data": {
            "text/plain": [
              "<Figure size 576x432 with 2 Axes>"
            ],
            "image/png": "[encoded data removed]"
          },
          "metadata": {
            "needs_background": "light"
          }
        }
      ]
    },
    {
      "cell_type": "markdown",
      "source": [
        "# OLD CODE"
      ],
      "metadata": {
        "id": "V9lqjIFl5-yT"
      }
    },
    {
      "cell_type": "code",
      "source": [],
      "metadata": {
        "id": "010vMJG65-JK"
      },
      "execution_count": null,
      "outputs": []
    },
    {
      "cell_type": "code",
      "source": [
        "def load_mnist(images_path, labels_path):\n",
        "    import os\n",
        "    import gzip\n",
        "    import numpy as np\n",
        "\n",
        "    with gzip.open(labels_path, 'rb') as lbpath:\n",
        "        labels = np.frombuffer(lbpath.read(), dtype=np.uint8,\n",
        "                               offset=8)\n",
        "\n",
        "    with gzip.open(images_path, 'rb') as imgpath:\n",
        "        images = np.frombuffer(imgpath.read(), dtype=np.uint8,\n",
        "                               offset=16).reshape(len(labels), 784)\n",
        "\n",
        "    return images, labels"
      ],
      "metadata": {
        "id": "5ucNBF4AlBTn"
      },
      "execution_count": null,
      "outputs": []
    },
    {
      "cell_type": "code",
      "source": [
        "X_train_orig, y_train_orig = load_mnist(train_images_path, train_labels_path)\n",
        "X_test, y_test = load_mnist(test_images_path, test_labels_path)\n",
        "X_train_orig = X_train_orig.astype('float32')\n",
        "X_test = X_test.astype('float32')\n",
        "X_train_orig /= 255\n",
        "X_test /= 255"
      ],
      "metadata": {
        "id": "En8iaAXRpBrO"
      },
      "execution_count": null,
      "outputs": []
    },
    {
      "cell_type": "code",
      "source": [
        "print(X_train_orig.shape)\n",
        "print(y_train_orig.shape)\n",
        "print(X_test.shape)\n",
        "print(y_test.shape)"
      ],
      "metadata": {
        "colab": {
          "base_uri": "https://localhost:8080/"
        },
        "id": "c1iQUX5btaEm",
        "outputId": "2cc8cc18-bb4e-45a1-81ca-b84193768701"
      },
      "execution_count": null,
      "outputs": [
        {
          "output_type": "stream",
          "name": "stdout",
          "text": [
            "(60000, 784)\n",
            "(60000,)\n",
            "(10000, 784)\n",
            "(10000,)\n"
          ]
        }
      ]
    },
    {
      "cell_type": "code",
      "source": [
        "from sklearn.model_selection import train_test_split\n",
        "X_train, X_val, y_train, y_val = train_test_split(X_train_orig, y_train_orig, test_size=0.2, random_state=12345)"
      ],
      "metadata": {
        "id": "biyOjyhOwjXU"
      },
      "execution_count": null,
      "outputs": []
    },
    {
      "cell_type": "code",
      "source": [
        "plt.imshow(X_train[1, :].reshape((28, 28)))"
      ],
      "metadata": {
        "colab": {
          "base_uri": "https://localhost:8080/",
          "height": 283
        },
        "id": "nb9G5jXSwmEy",
        "outputId": "d01cb326-9961-4331-ef3d-09650987dc39"
      },
      "execution_count": null,
      "outputs": [
        {
          "output_type": "execute_result",
          "data": {
            "text/plain": [
              "<matplotlib.image.AxesImage at 0x7f442816d590>"
            ]
          },
          "metadata": {},
          "execution_count": 50
        },
        {
          "output_type": "display_data",
          "data": {
            "text/plain": [
              "<Figure size 432x288 with 1 Axes>"
            ],
            "image/png": "[encoded data removed]"
          },
          "metadata": {
            "needs_background": "light"
          }
        }
      ]
    },
    {
      "cell_type": "code",
      "source": [
        "img_height, img_width = 128, 128\n",
        "\n",
        "train_datagen = ImageDataGenerator(\n",
        "    rescale = 1/255,\n",
        "    rotation_range = 30,\n",
        "    width_shift_range=0.2,\n",
        "    height_shift_range=0.2,\n",
        "    horizontal_flip = True,\n",
        "    fill_mode = 'nearest')\n",
        "\n",
        "val_datagen = ImageDataGenerator(\n",
        "    rescale = 1/255)\n",
        "\n",
        "train_generator = train_datagen.flow_from_directory(\n",
        "    X_train, y_train,\n",
        "    batch_size = 9,\n",
        "    class_mode = 'categorical')\n",
        "\n",
        "val_generator = val_datagen.flow_from_directory(\n",
        "    X_val, y_val,\n",
        "    batch_size = 9,\n",
        "    class_mode = 'categorical')"
      ],
      "metadata": {
        "colab": {
          "base_uri": "https://localhost:8080/",
          "height": 437
        },
        "id": "4yQS1AWm3ljo",
        "outputId": "45f1349c-09cf-4515-a2a4-1a5e96e71a29"
      },
      "execution_count": null,
      "outputs": [
        {
          "output_type": "error",
          "ename": "ValueError",
          "evalue": "ignored",
          "traceback": [
            "\u001b[0;31m---------------------------------------------------------------------------\u001b[0m",
            "\u001b[0;31mValueError\u001b[0m                                Traceback (most recent call last)",
            "\u001b[0;32m<ipython-input-51-79d6e0854376>\u001b[0m in \u001b[0;36m<module>\u001b[0;34m\u001b[0m\n\u001b[1;32m     15\u001b[0m     \u001b[0mX_train\u001b[0m\u001b[0;34m,\u001b[0m \u001b[0my_train\u001b[0m\u001b[0;34m,\u001b[0m\u001b[0;34m\u001b[0m\u001b[0;34m\u001b[0m\u001b[0m\n\u001b[1;32m     16\u001b[0m     \u001b[0mbatch_size\u001b[0m \u001b[0;34m=\u001b[0m \u001b[0;36m9\u001b[0m\u001b[0;34m,\u001b[0m\u001b[0;34m\u001b[0m\u001b[0;34m\u001b[0m\u001b[0m\n\u001b[0;32m---> 17\u001b[0;31m     class_mode = 'categorical')\n\u001b[0m\u001b[1;32m     18\u001b[0m \u001b[0;34m\u001b[0m\u001b[0m\n\u001b[1;32m     19\u001b[0m val_generator = val_datagen.flow_from_directory(\n",
            "\u001b[0;32m/usr/local/lib/python3.7/dist-packages/keras/preprocessing/image.py\u001b[0m in \u001b[0;36mflow_from_directory\u001b[0;34m(self, directory, target_size, color_mode, classes, class_mode, batch_size, shuffle, seed, save_to_dir, save_prefix, save_format, follow_links, subset, interpolation, keep_aspect_ratio)\u001b[0m\n\u001b[1;32m   1485\u001b[0m         \u001b[0msubset\u001b[0m\u001b[0;34m=\u001b[0m\u001b[0msubset\u001b[0m\u001b[0;34m,\u001b[0m\u001b[0;34m\u001b[0m\u001b[0;34m\u001b[0m\u001b[0m\n\u001b[1;32m   1486\u001b[0m         \u001b[0minterpolation\u001b[0m\u001b[0;34m=\u001b[0m\u001b[0minterpolation\u001b[0m\u001b[0;34m,\u001b[0m\u001b[0;34m\u001b[0m\u001b[0;34m\u001b[0m\u001b[0m\n\u001b[0;32m-> 1487\u001b[0;31m         dtype=self.dtype)\n\u001b[0m\u001b[1;32m   1488\u001b[0m \u001b[0;34m\u001b[0m\u001b[0m\n\u001b[1;32m   1489\u001b[0m   def flow_from_dataframe(self,\n",
            "\u001b[0;32m/usr/local/lib/python3.7/dist-packages/keras/preprocessing/image.py\u001b[0m in \u001b[0;36m__init__\u001b[0;34m(self, directory, image_data_generator, target_size, color_mode, classes, class_mode, batch_size, shuffle, seed, data_format, save_to_dir, save_prefix, save_format, follow_links, subset, interpolation, keep_aspect_ratio, dtype)\u001b[0m\n\u001b[1;32m    505\u001b[0m     \u001b[0;32mif\u001b[0m \u001b[0;32mnot\u001b[0m \u001b[0mclasses\u001b[0m\u001b[0;34m:\u001b[0m\u001b[0;34m\u001b[0m\u001b[0;34m\u001b[0m\u001b[0m\n\u001b[1;32m    506\u001b[0m       \u001b[0mclasses\u001b[0m \u001b[0;34m=\u001b[0m \u001b[0;34m[\u001b[0m\u001b[0;34m]\u001b[0m\u001b[0;34m\u001b[0m\u001b[0;34m\u001b[0m\u001b[0m\n\u001b[0;32m--> 507\u001b[0;31m       \u001b[0;32mfor\u001b[0m \u001b[0msubdir\u001b[0m \u001b[0;32min\u001b[0m \u001b[0msorted\u001b[0m\u001b[0;34m(\u001b[0m\u001b[0mos\u001b[0m\u001b[0;34m.\u001b[0m\u001b[0mlistdir\u001b[0m\u001b[0;34m(\u001b[0m\u001b[0mdirectory\u001b[0m\u001b[0;34m)\u001b[0m\u001b[0;34m)\u001b[0m\u001b[0;34m:\u001b[0m\u001b[0;34m\u001b[0m\u001b[0;34m\u001b[0m\u001b[0m\n\u001b[0m\u001b[1;32m    508\u001b[0m         \u001b[0;32mif\u001b[0m \u001b[0mos\u001b[0m\u001b[0;34m.\u001b[0m\u001b[0mpath\u001b[0m\u001b[0;34m.\u001b[0m\u001b[0misdir\u001b[0m\u001b[0;34m(\u001b[0m\u001b[0mos\u001b[0m\u001b[0;34m.\u001b[0m\u001b[0mpath\u001b[0m\u001b[0;34m.\u001b[0m\u001b[0mjoin\u001b[0m\u001b[0;34m(\u001b[0m\u001b[0mdirectory\u001b[0m\u001b[0;34m,\u001b[0m \u001b[0msubdir\u001b[0m\u001b[0;34m)\u001b[0m\u001b[0;34m)\u001b[0m\u001b[0;34m:\u001b[0m\u001b[0;34m\u001b[0m\u001b[0;34m\u001b[0m\u001b[0m\n\u001b[1;32m    509\u001b[0m           \u001b[0mclasses\u001b[0m\u001b[0;34m.\u001b[0m\u001b[0mappend\u001b[0m\u001b[0;34m(\u001b[0m\u001b[0msubdir\u001b[0m\u001b[0;34m)\u001b[0m\u001b[0;34m\u001b[0m\u001b[0;34m\u001b[0m\u001b[0m\n",
            "\u001b[0;31mValueError\u001b[0m: listdir: embedded null character in path"
          ]
        }
      ]
    },
    {
      "cell_type": "code",
      "source": [
        "class myCallback(keras.callbacks.Callback):\n",
        "    def on_epoch_end(self, epoch, logs={}):\n",
        "        if logs.get('val_acc') > 0.95:\n",
        "            print(\"\\Akurasi sudah mencapai > 0.95!\")\n",
        "            self.model.stop_training = True\n",
        "            \n",
        "callbacks = myCallback()"
      ],
      "metadata": {
        "id": "LfK6Sp2E3cwe"
      },
      "execution_count": null,
      "outputs": []
    },
    {
      "cell_type": "code",
      "source": [
        "# 2 layer NN\n",
        "\n",
        "def CNN(lr = 0.001):\n",
        "    model = keras.models.Sequential()\n",
        "    model.add(keras.layers.Conv2D(16, (3,3),\n",
        "                                  activation = 'relu',\n",
        "                                  input_shape = (128, 128, 3)))\n",
        "    model.add(keras.layers.MaxPooling2D(3,3))\n",
        "    model.add(keras.layers.Conv2D(64, (3,3), activation = 'relu'))\n",
        "    model.add(keras.layers.MaxPooling2D(4,4))\n",
        "    model.add(keras.layers.Conv2D(128, (3,3), activation = 'relu'))\n",
        "    model.add(keras.layers.MaxPooling2D(3,3))\n",
        "    \n",
        "    model.add(keras.layers.Flatten())\n",
        "    model.add(keras.layers.Dense(128, activation = 'relu'))\n",
        "    model.add(keras.layers.Dense(32, activation = 'relu'))\n",
        "    model.add(keras.layers.Dense(3, activation = 'softmax'))\n",
        "    \n",
        "    adam = keras.optimizers.Adam(learning_rate = lr)\n",
        "    \n",
        "    model.compile(loss = 'categorical_crossentropy',\n",
        "                  optimizer = adam,\n",
        "                  metrics = ['acc'])\n",
        "    \n",
        "    return model\n",
        "\n",
        "model = CNN(lr = 0.0008)\n",
        "model.summary()\n"
      ],
      "metadata": {
        "id": "yhtM-nX2woRK"
      },
      "execution_count": null,
      "outputs": []
    },
    {
      "cell_type": "code",
      "source": [
        "history = model.fit(X_train, y_train,\n",
        "                    batch_size=batch_size,\n",
        "                    epochs=20,\n",
        "                    verbose=1,\n",
        "                    validation_data=(X_val, y_val))\n",
        "history = model.fit(train_generator,\n",
        "                 epochs = 45,\n",
        "                 steps_per_epoch = 100,\n",
        "                 batch_size = 128,\n",
        "                 validation_data = val_generator,\n",
        "                 verbose = 1,\n",
        "                 callbacks = [callbacks])"
      ],
      "metadata": {
        "id": "pS5eCEZ7w1GI"
      },
      "execution_count": null,
      "outputs": []
    },
    {
      "cell_type": "code",
      "source": [],
      "metadata": {
        "id": "Z1du6eT6w4Jw"
      },
      "execution_count": null,
      "outputs": []
    }
  ]
}